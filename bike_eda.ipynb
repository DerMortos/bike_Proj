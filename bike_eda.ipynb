{
 "cells": [
  {
   "cell_type": "code",
   "execution_count": null,
   "metadata": {},
   "outputs": [],
   "source": [
    "import pandas as pd\n",
    "from statsmodels.tsa.stattools import grangercausalitytests, adfuller, kpss, acf, pacf"
   ]
  }
 ],
 "metadata": {
  "kernelspec": {
   "display_name": ".bikeEnv",
   "language": "python",
   "name": "python3"
  },
  "language_info": {
   "name": "python",
   "version": "3.10.6 (main, Nov 14 2022, 16:10:14) [GCC 11.3.0]"
  },
  "orig_nbformat": 4,
  "vscode": {
   "interpreter": {
    "hash": "b2fa98197eecc471b94ec7ea16470d20bbfd5c019d9e766cae24a1c499b579b0"
   }
  }
 },
 "nbformat": 4,
 "nbformat_minor": 2
}
